{
  "nbformat": 4,
  "nbformat_minor": 0,
  "metadata": {
    "colab": {
      "name": "tenflow_ops.ipynb",
      "version": "0.3.2",
      "provenance": [],
      "collapsed_sections": [],
      "include_colab_link": true
    },
    "kernelspec": {
      "name": "python3",
      "display_name": "Python 3"
    }
  },
  "cells": [
    {
      "cell_type": "markdown",
      "metadata": {
        "id": "view-in-github",
        "colab_type": "text"
      },
      "source": [
        "<a href=\"https://colab.research.google.com/github/muditjain788/tensorflow_tf/blob/master/tenflow_ops.ipynb\" target=\"_parent\"><img src=\"https://colab.research.google.com/assets/colab-badge.svg\" alt=\"Open In Colab\"/></a>"
      ]
    },
    {
      "cell_type": "code",
      "metadata": {
        "id": "EjiTUpKNlPBc",
        "colab_type": "code",
        "colab": {}
      },
      "source": [
        "import tensorflow as tf"
      ],
      "execution_count": 0,
      "outputs": []
    },
    {
      "cell_type": "code",
      "metadata": {
        "id": "c_2XRRJ9lgMI",
        "colab_type": "code",
        "colab": {}
      },
      "source": [
        "#to assign fix value in tf we need to define constants\n",
        "#single value constant\n",
        "x=tf.constant(30)"
      ],
      "execution_count": 0,
      "outputs": []
    },
    {
      "cell_type": "code",
      "metadata": {
        "id": "_U37duFIlghE",
        "colab_type": "code",
        "colab": {}
      },
      "source": [
        "#multi value constant\n",
        "x1=tf.constant([3,55,6,8])"
      ],
      "execution_count": 0,
      "outputs": []
    },
    {
      "cell_type": "code",
      "metadata": {
        "id": "D3y8Jy0ilgx-",
        "colab_type": "code",
        "colab": {
          "base_uri": "https://localhost:8080/",
          "height": 34
        },
        "outputId": "c11f1f45-7694-4e49-dbd3-6fdcc2384a96"
      },
      "source": [
        "#type of x\n",
        "type(x)"
      ],
      "execution_count": 4,
      "outputs": [
        {
          "output_type": "execute_result",
          "data": {
            "text/plain": [
              "tensorflow.python.framework.ops.Tensor"
            ]
          },
          "metadata": {
            "tags": []
          },
          "execution_count": 4
        }
      ]
    },
    {
      "cell_type": "code",
      "metadata": {
        "id": "csO7xB6GnyU0",
        "colab_type": "code",
        "colab": {}
      },
      "source": [
        "#y\n",
        "y=tf.constant(20)"
      ],
      "execution_count": 0,
      "outputs": []
    },
    {
      "cell_type": "code",
      "metadata": {
        "id": "2WFwvsyNnysQ",
        "colab_type": "code",
        "colab": {}
      },
      "source": [
        "#equation\n",
        "z=x+y #new tensor -----store eqn data into z after compiling and wait for resources #cpu,gpu,tpu "
      ],
      "execution_count": 0,
      "outputs": []
    },
    {
      "cell_type": "code",
      "metadata": {
        "id": "BFaxr9drnyiC",
        "colab_type": "code",
        "colab": {
          "base_uri": "https://localhost:8080/",
          "height": 34
        },
        "outputId": "1a49fb74-ab21-4ea3-84c0-9a9928373163"
      },
      "source": [
        "z #you can see output is not addition as it is a tensor"
      ],
      "execution_count": 7,
      "outputs": [
        {
          "output_type": "execute_result",
          "data": {
            "text/plain": [
              "<tf.Tensor 'add:0' shape=() dtype=int32>"
            ]
          },
          "metadata": {
            "tags": []
          },
          "execution_count": 7
        }
      ]
    },
    {
      "cell_type": "code",
      "metadata": {
        "id": "Sz1eLf5UlhIa",
        "colab_type": "code",
        "colab": {
          "base_uri": "https://localhost:8080/",
          "height": 34
        },
        "outputId": "e80a5630-2f93-4900-8b94-197865e9a095"
      },
      "source": [
        "type(z)"
      ],
      "execution_count": 8,
      "outputs": [
        {
          "output_type": "execute_result",
          "data": {
            "text/plain": [
              "tensorflow.python.framework.ops.Tensor"
            ]
          },
          "metadata": {
            "tags": []
          },
          "execution_count": 8
        }
      ]
    },
    {
      "cell_type": "code",
      "metadata": {
        "id": "w58g5eCuoXOe",
        "colab_type": "code",
        "colab": {}
      },
      "source": [
        "#we have another method to add the same\n",
        "z1=tf.add(x,y)"
      ],
      "execution_count": 0,
      "outputs": []
    },
    {
      "cell_type": "code",
      "metadata": {
        "id": "lK_DZl1youli",
        "colab_type": "code",
        "colab": {}
      },
      "source": [
        "#now time for assigning resources to our equation\n",
        "sess=tf.Session()"
      ],
      "execution_count": 0,
      "outputs": []
    },
    {
      "cell_type": "code",
      "metadata": {
        "id": "YUScZwKeovBc",
        "colab_type": "code",
        "colab": {
          "base_uri": "https://localhost:8080/",
          "height": 34
        },
        "outputId": "5a394642-e059-47af-e6ea-bda9005f1f0c"
      },
      "source": [
        "#now we can run our equation\n",
        "output=sess.run(z)\n",
        "output"
      ],
      "execution_count": 11,
      "outputs": [
        {
          "output_type": "execute_result",
          "data": {
            "text/plain": [
              "50"
            ]
          },
          "metadata": {
            "tags": []
          },
          "execution_count": 11
        }
      ]
    },
    {
      "cell_type": "code",
      "metadata": {
        "id": "oYs1RNZKovhI",
        "colab_type": "code",
        "colab": {}
      },
      "source": [
        "#closing session\n",
        "sess.close()\n",
        "\n",
        "ses"
      ],
      "execution_count": 0,
      "outputs": []
    },
    {
      "cell_type": "code",
      "metadata": {
        "id": "nBuo4MO-owfu",
        "colab_type": "code",
        "colab": {}
      },
      "source": [
        "#we can perform same task in another way where we don't haave to close session\n",
        "with tf.Session() as sess:\n",
        "  output1=sess.run(z)\n",
        "  file=tf.summary.FileWriter(sess.graph) #graph ke naam se directory banai chahhiye and ouput1 store hona chahiya matlab graph bhi"
      ],
      "execution_count": 0,
      "outputs": []
    },
    {
      "cell_type": "code",
      "metadata": {
        "id": "LCmZPaLQ0wLc",
        "colab_type": "code",
        "colab": {
          "base_uri": "https://localhost:8080/",
          "height": 34
        },
        "outputId": "53c6bb39-0d9f-486b-c568-e81e42962422"
      },
      "source": [
        "output1"
      ],
      "execution_count": 14,
      "outputs": [
        {
          "output_type": "execute_result",
          "data": {
            "text/plain": [
              "50"
            ]
          },
          "metadata": {
            "tags": []
          },
          "execution_count": 14
        }
      ]
    },
    {
      "cell_type": "code",
      "metadata": {
        "id": "7zzwkQDO0w3Q",
        "colab_type": "code",
        "colab": {
          "base_uri": "https://localhost:8080/",
          "height": 34
        },
        "outputId": "b528abcf-f8c4-4c3d-b2ee-f28b1af8a885"
      },
      "source": [
        "file"
      ],
      "execution_count": 19,
      "outputs": [
        {
          "output_type": "execute_result",
          "data": {
            "text/plain": [
              "<tensorflow.python.summary.writer.writer.FileWriter at 0x7f9cff668ba8>"
            ]
          },
          "metadata": {
            "tags": []
          },
          "execution_count": 19
        }
      ]
    },
    {
      "cell_type": "code",
      "metadata": {
        "id": "gEbusWPE3BHm",
        "colab_type": "code",
        "colab": {}
      },
      "source": [
        ""
      ],
      "execution_count": 0,
      "outputs": []
    },
    {
      "cell_type": "code",
      "metadata": {
        "id": "yrnlE-Mu3ZWY",
        "colab_type": "code",
        "colab": {}
      },
      "source": [
        ""
      ],
      "execution_count": 0,
      "outputs": []
    },
    {
      "cell_type": "markdown",
      "metadata": {
        "id": "W9BbMNUf3T1s",
        "colab_type": "text"
      },
      "source": [
        "# placeholder"
      ]
    },
    {
      "cell_type": "code",
      "metadata": {
        "id": "d558tS9I3a0Y",
        "colab_type": "code",
        "colab": {}
      },
      "source": [
        "#first place holder\n",
        "p1=r=tf.placeholder(tf.int32)\n",
        "#placeholder 2\n",
        "p2=tf.placeholder(tf.int32)\n",
        "#adding values\n",
        "sum=tf.add(p1,p2)\n",
        "#general\n",
        "sum1=p1+p2"
      ],
      "execution_count": 0,
      "outputs": []
    },
    {
      "cell_type": "code",
      "metadata": {
        "id": "PsVEVhIt3zgA",
        "colab_type": "code",
        "colab": {}
      },
      "source": [
        "#time for creating session\n",
        "with tf.Session() as sess:\n",
        "  output2=sess.run(sum1,{p1:[3,6],p2:[5,0]}) #{} use to pass value p1 ki [] ye and p2 ki [ye]\n",
        "  \n",
        "  "
      ],
      "execution_count": 0,
      "outputs": []
    },
    {
      "cell_type": "code",
      "metadata": {
        "id": "fk1dZ2Ia4Yuc",
        "colab_type": "code",
        "colab": {
          "base_uri": "https://localhost:8080/",
          "height": 34
        },
        "outputId": "0d8b07c3-c3ea-43ae-f3d8-38b52b35fab6"
      },
      "source": [
        "output2"
      ],
      "execution_count": 27,
      "outputs": [
        {
          "output_type": "execute_result",
          "data": {
            "text/plain": [
              "array([8, 6], dtype=int32)"
            ]
          },
          "metadata": {
            "tags": []
          },
          "execution_count": 27
        }
      ]
    }
  ]
}